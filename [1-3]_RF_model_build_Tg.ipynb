{
 "cells": [
  {
   "cell_type": "markdown",
   "metadata": {},
   "source": [
    "# Random forest regression with hyperparameter tuning by GPyOpt"
   ]
  },
  {
   "cell_type": "markdown",
   "metadata": {},
   "source": [
    "### Import library and dataset"
   ]
  },
  {
   "cell_type": "code",
   "execution_count": 1,
   "metadata": {},
   "outputs": [],
   "source": [
    "%matplotlib inline\n",
    "import sys\n",
    "import numpy as np\n",
    "import pandas as pd\n",
    "import matplotlib.pyplot as plt\n",
    "import seaborn as sns\n",
    "\n",
    "from sklearn.ensemble import RandomForestRegressor\n",
    "from sklearn.metrics import mean_squared_error, r2_score\n",
    "\n",
    "import GPy, GPyOpt\n",
    "from GPyOpt.methods import BayesianOptimization\n",
    "\n",
    "import pickle"
   ]
  },
  {
   "cell_type": "code",
   "execution_count": 2,
   "metadata": {},
   "outputs": [
    {
     "name": "stdout",
     "output_type": "stream",
     "text": [
      "(594, 12)\n"
     ]
    },
    {
     "data": {
      "text/html": [
       "<div>\n",
       "<style scoped>\n",
       "    .dataframe tbody tr th:only-of-type {\n",
       "        vertical-align: middle;\n",
       "    }\n",
       "\n",
       "    .dataframe tbody tr th {\n",
       "        vertical-align: top;\n",
       "    }\n",
       "\n",
       "    .dataframe thead th {\n",
       "        text-align: right;\n",
       "    }\n",
       "</style>\n",
       "<table border=\"1\" class=\"dataframe\">\n",
       "  <thead>\n",
       "    <tr style=\"text-align: right;\">\n",
       "      <th></th>\n",
       "      <th>Kod</th>\n",
       "      <th>GlasNo</th>\n",
       "      <th>SiO2</th>\n",
       "      <th>B2O3</th>\n",
       "      <th>Al2O3</th>\n",
       "      <th>MgO</th>\n",
       "      <th>CaO</th>\n",
       "      <th>Na2O</th>\n",
       "      <th>K2O</th>\n",
       "      <th>E</th>\n",
       "      <th>density</th>\n",
       "      <th>Tg</th>\n",
       "    </tr>\n",
       "  </thead>\n",
       "  <tbody>\n",
       "    <tr>\n",
       "      <th>0</th>\n",
       "      <td>2498</td>\n",
       "      <td>34459</td>\n",
       "      <td>71.01</td>\n",
       "      <td>0.45</td>\n",
       "      <td>0.31</td>\n",
       "      <td>0.0</td>\n",
       "      <td>13.01</td>\n",
       "      <td>12.13</td>\n",
       "      <td>3.08</td>\n",
       "      <td>71.8</td>\n",
       "      <td>2.51</td>\n",
       "      <td>540.0</td>\n",
       "    </tr>\n",
       "    <tr>\n",
       "      <th>1</th>\n",
       "      <td>2498</td>\n",
       "      <td>34460</td>\n",
       "      <td>71.77</td>\n",
       "      <td>11.09</td>\n",
       "      <td>0.25</td>\n",
       "      <td>0.0</td>\n",
       "      <td>0.00</td>\n",
       "      <td>9.76</td>\n",
       "      <td>6.29</td>\n",
       "      <td>82.5</td>\n",
       "      <td>2.52</td>\n",
       "      <td>538.0</td>\n",
       "    </tr>\n",
       "    <tr>\n",
       "      <th>2</th>\n",
       "      <td>3714</td>\n",
       "      <td>10815</td>\n",
       "      <td>75.01</td>\n",
       "      <td>0.00</td>\n",
       "      <td>0.00</td>\n",
       "      <td>0.0</td>\n",
       "      <td>10.69</td>\n",
       "      <td>14.30</td>\n",
       "      <td>0.00</td>\n",
       "      <td>77.5</td>\n",
       "      <td>2.46</td>\n",
       "      <td>548.0</td>\n",
       "    </tr>\n",
       "    <tr>\n",
       "      <th>3</th>\n",
       "      <td>3714</td>\n",
       "      <td>10817</td>\n",
       "      <td>69.93</td>\n",
       "      <td>5.08</td>\n",
       "      <td>0.00</td>\n",
       "      <td>0.0</td>\n",
       "      <td>10.71</td>\n",
       "      <td>14.29</td>\n",
       "      <td>0.00</td>\n",
       "      <td>80.4</td>\n",
       "      <td>2.51</td>\n",
       "      <td>563.0</td>\n",
       "    </tr>\n",
       "    <tr>\n",
       "      <th>4</th>\n",
       "      <td>3724</td>\n",
       "      <td>10860</td>\n",
       "      <td>52.50</td>\n",
       "      <td>24.30</td>\n",
       "      <td>0.00</td>\n",
       "      <td>0.0</td>\n",
       "      <td>0.00</td>\n",
       "      <td>23.20</td>\n",
       "      <td>0.00</td>\n",
       "      <td>80.4</td>\n",
       "      <td>2.56</td>\n",
       "      <td>529.0</td>\n",
       "    </tr>\n",
       "  </tbody>\n",
       "</table>\n",
       "</div>"
      ],
      "text/plain": [
       "    Kod  GlasNo   SiO2   B2O3  Al2O3  MgO    CaO   Na2O   K2O     E  density  \\\n",
       "0  2498   34459  71.01   0.45   0.31  0.0  13.01  12.13  3.08  71.8     2.51   \n",
       "1  2498   34460  71.77  11.09   0.25  0.0   0.00   9.76  6.29  82.5     2.52   \n",
       "2  3714   10815  75.01   0.00   0.00  0.0  10.69  14.30  0.00  77.5     2.46   \n",
       "3  3714   10817  69.93   5.08   0.00  0.0  10.71  14.29  0.00  80.4     2.51   \n",
       "4  3724   10860  52.50  24.30   0.00  0.0   0.00  23.20  0.00  80.4     2.56   \n",
       "\n",
       "      Tg  \n",
       "0  540.0  \n",
       "1  538.0  \n",
       "2  548.0  \n",
       "3  563.0  \n",
       "4  529.0  "
      ]
     },
     "execution_count": 2,
     "metadata": {},
     "output_type": "execute_result"
    }
   ],
   "source": [
    "# load dataset\n",
    "df = pd.read_csv('./data_common/df_source.csv')\n",
    "print(df.shape)\n",
    "df.head()"
   ]
  },
  {
   "cell_type": "code",
   "execution_count": 3,
   "metadata": {},
   "outputs": [
    {
     "name": "stdout",
     "output_type": "stream",
     "text": [
      "(594, 12)\n"
     ]
    },
    {
     "data": {
      "text/html": [
       "<div>\n",
       "<style scoped>\n",
       "    .dataframe tbody tr th:only-of-type {\n",
       "        vertical-align: middle;\n",
       "    }\n",
       "\n",
       "    .dataframe tbody tr th {\n",
       "        vertical-align: top;\n",
       "    }\n",
       "\n",
       "    .dataframe thead th {\n",
       "        text-align: right;\n",
       "    }\n",
       "</style>\n",
       "<table border=\"1\" class=\"dataframe\">\n",
       "  <thead>\n",
       "    <tr style=\"text-align: right;\">\n",
       "      <th></th>\n",
       "      <th>Kod</th>\n",
       "      <th>GlasNo</th>\n",
       "      <th>SiO2</th>\n",
       "      <th>B2O3</th>\n",
       "      <th>Al2O3</th>\n",
       "      <th>MgO</th>\n",
       "      <th>CaO</th>\n",
       "      <th>Na2O</th>\n",
       "      <th>K2O</th>\n",
       "      <th>E</th>\n",
       "      <th>density</th>\n",
       "      <th>Tg</th>\n",
       "    </tr>\n",
       "  </thead>\n",
       "  <tbody>\n",
       "    <tr>\n",
       "      <th>240</th>\n",
       "      <td>39756</td>\n",
       "      <td>465909</td>\n",
       "      <td>40.00</td>\n",
       "      <td>40.00</td>\n",
       "      <td>0.00</td>\n",
       "      <td>0.00</td>\n",
       "      <td>0.00</td>\n",
       "      <td>20.00</td>\n",
       "      <td>0.00</td>\n",
       "      <td>75.1</td>\n",
       "      <td>2.42</td>\n",
       "      <td>545.0</td>\n",
       "    </tr>\n",
       "    <tr>\n",
       "      <th>132</th>\n",
       "      <td>27734</td>\n",
       "      <td>359612</td>\n",
       "      <td>72.00</td>\n",
       "      <td>0.00</td>\n",
       "      <td>0.00</td>\n",
       "      <td>14.00</td>\n",
       "      <td>0.00</td>\n",
       "      <td>14.00</td>\n",
       "      <td>0.00</td>\n",
       "      <td>70.2</td>\n",
       "      <td>2.45</td>\n",
       "      <td>551.0</td>\n",
       "    </tr>\n",
       "    <tr>\n",
       "      <th>424</th>\n",
       "      <td>42246</td>\n",
       "      <td>483234</td>\n",
       "      <td>52.60</td>\n",
       "      <td>20.60</td>\n",
       "      <td>0.00</td>\n",
       "      <td>0.00</td>\n",
       "      <td>0.00</td>\n",
       "      <td>26.80</td>\n",
       "      <td>0.00</td>\n",
       "      <td>80.3</td>\n",
       "      <td>2.54</td>\n",
       "      <td>535.0</td>\n",
       "    </tr>\n",
       "    <tr>\n",
       "      <th>92</th>\n",
       "      <td>16195</td>\n",
       "      <td>134085</td>\n",
       "      <td>79.40</td>\n",
       "      <td>10.44</td>\n",
       "      <td>2.48</td>\n",
       "      <td>0.78</td>\n",
       "      <td>1.13</td>\n",
       "      <td>4.08</td>\n",
       "      <td>0.67</td>\n",
       "      <td>66.0</td>\n",
       "      <td>2.34</td>\n",
       "      <td>550.0</td>\n",
       "    </tr>\n",
       "    <tr>\n",
       "      <th>170</th>\n",
       "      <td>30511</td>\n",
       "      <td>401108</td>\n",
       "      <td>67.35</td>\n",
       "      <td>0.00</td>\n",
       "      <td>10.49</td>\n",
       "      <td>5.29</td>\n",
       "      <td>0.35</td>\n",
       "      <td>13.45</td>\n",
       "      <td>2.40</td>\n",
       "      <td>72.0</td>\n",
       "      <td>2.43</td>\n",
       "      <td>623.0</td>\n",
       "    </tr>\n",
       "  </tbody>\n",
       "</table>\n",
       "</div>"
      ],
      "text/plain": [
       "       Kod  GlasNo   SiO2   B2O3  Al2O3    MgO   CaO   Na2O   K2O     E  \\\n",
       "240  39756  465909  40.00  40.00   0.00   0.00  0.00  20.00  0.00  75.1   \n",
       "132  27734  359612  72.00   0.00   0.00  14.00  0.00  14.00  0.00  70.2   \n",
       "424  42246  483234  52.60  20.60   0.00   0.00  0.00  26.80  0.00  80.3   \n",
       "92   16195  134085  79.40  10.44   2.48   0.78  1.13   4.08  0.67  66.0   \n",
       "170  30511  401108  67.35   0.00  10.49   5.29  0.35  13.45  2.40  72.0   \n",
       "\n",
       "     density     Tg  \n",
       "240     2.42  545.0  \n",
       "132     2.45  551.0  \n",
       "424     2.54  535.0  \n",
       "92      2.34  550.0  \n",
       "170     2.43  623.0  "
      ]
     },
     "execution_count": 3,
     "metadata": {},
     "output_type": "execute_result"
    }
   ],
   "source": [
    "# Shuffle the dataset just in case\n",
    "\n",
    "df_s = df.sample(frac = 1, random_state = 0)\n",
    "print(df_s.shape)\n",
    "df_s.head()"
   ]
  },
  {
   "cell_type": "code",
   "execution_count": 4,
   "metadata": {},
   "outputs": [
    {
     "name": "stdout",
     "output_type": "stream",
     "text": [
      "Column the composition starts =  2\n",
      "Column the composition ends   =  9\n"
     ]
    }
   ],
   "source": [
    "# Get column number for computation\n",
    "\n",
    "start = df_s.columns.get_loc('SiO2')\n",
    "end   = df_s.columns.get_loc('K2O') + 1\n",
    "print('Column the composition starts = ', start)\n",
    "print('Column the composition ends   = ', end)"
   ]
  },
  {
   "cell_type": "code",
   "execution_count": 5,
   "metadata": {},
   "outputs": [],
   "source": [
    "# Define X variables\n",
    "\n",
    "X = df_s.iloc[:, start:end]"
   ]
  },
  {
   "cell_type": "code",
   "execution_count": 6,
   "metadata": {},
   "outputs": [
    {
     "name": "stdout",
     "output_type": "stream",
     "text": [
      "(594, 7)\n"
     ]
    },
    {
     "data": {
      "text/html": [
       "<div>\n",
       "<style scoped>\n",
       "    .dataframe tbody tr th:only-of-type {\n",
       "        vertical-align: middle;\n",
       "    }\n",
       "\n",
       "    .dataframe tbody tr th {\n",
       "        vertical-align: top;\n",
       "    }\n",
       "\n",
       "    .dataframe thead th {\n",
       "        text-align: right;\n",
       "    }\n",
       "</style>\n",
       "<table border=\"1\" class=\"dataframe\">\n",
       "  <thead>\n",
       "    <tr style=\"text-align: right;\">\n",
       "      <th></th>\n",
       "      <th>SiO2</th>\n",
       "      <th>B2O3</th>\n",
       "      <th>Al2O3</th>\n",
       "      <th>MgO</th>\n",
       "      <th>CaO</th>\n",
       "      <th>Na2O</th>\n",
       "      <th>K2O</th>\n",
       "    </tr>\n",
       "  </thead>\n",
       "  <tbody>\n",
       "    <tr>\n",
       "      <th>240</th>\n",
       "      <td>40.00</td>\n",
       "      <td>40.00</td>\n",
       "      <td>0.00</td>\n",
       "      <td>0.00</td>\n",
       "      <td>0.00</td>\n",
       "      <td>20.00</td>\n",
       "      <td>0.00</td>\n",
       "    </tr>\n",
       "    <tr>\n",
       "      <th>132</th>\n",
       "      <td>72.00</td>\n",
       "      <td>0.00</td>\n",
       "      <td>0.00</td>\n",
       "      <td>14.00</td>\n",
       "      <td>0.00</td>\n",
       "      <td>14.00</td>\n",
       "      <td>0.00</td>\n",
       "    </tr>\n",
       "    <tr>\n",
       "      <th>424</th>\n",
       "      <td>52.60</td>\n",
       "      <td>20.60</td>\n",
       "      <td>0.00</td>\n",
       "      <td>0.00</td>\n",
       "      <td>0.00</td>\n",
       "      <td>26.80</td>\n",
       "      <td>0.00</td>\n",
       "    </tr>\n",
       "    <tr>\n",
       "      <th>92</th>\n",
       "      <td>79.40</td>\n",
       "      <td>10.44</td>\n",
       "      <td>2.48</td>\n",
       "      <td>0.78</td>\n",
       "      <td>1.13</td>\n",
       "      <td>4.08</td>\n",
       "      <td>0.67</td>\n",
       "    </tr>\n",
       "    <tr>\n",
       "      <th>170</th>\n",
       "      <td>67.35</td>\n",
       "      <td>0.00</td>\n",
       "      <td>10.49</td>\n",
       "      <td>5.29</td>\n",
       "      <td>0.35</td>\n",
       "      <td>13.45</td>\n",
       "      <td>2.40</td>\n",
       "    </tr>\n",
       "  </tbody>\n",
       "</table>\n",
       "</div>"
      ],
      "text/plain": [
       "      SiO2   B2O3  Al2O3    MgO   CaO   Na2O   K2O\n",
       "240  40.00  40.00   0.00   0.00  0.00  20.00  0.00\n",
       "132  72.00   0.00   0.00  14.00  0.00  14.00  0.00\n",
       "424  52.60  20.60   0.00   0.00  0.00  26.80  0.00\n",
       "92   79.40  10.44   2.48   0.78  1.13   4.08  0.67\n",
       "170  67.35   0.00  10.49   5.29  0.35  13.45  2.40"
      ]
     },
     "execution_count": 6,
     "metadata": {},
     "output_type": "execute_result"
    }
   ],
   "source": [
    "print(X.shape)\n",
    "X.head()"
   ]
  },
  {
   "cell_type": "code",
   "execution_count": 7,
   "metadata": {},
   "outputs": [],
   "source": [
    "# Define target y value\n",
    "\n",
    "def choose_y(df, property):\n",
    "    y_value  = df[property]\n",
    "    return y_value"
   ]
  },
  {
   "cell_type": "code",
   "execution_count": 8,
   "metadata": {},
   "outputs": [],
   "source": [
    "property_name = 'Tg'"
   ]
  },
  {
   "cell_type": "code",
   "execution_count": 9,
   "metadata": {},
   "outputs": [
    {
     "name": "stdout",
     "output_type": "stream",
     "text": [
      "(594,)\n"
     ]
    },
    {
     "data": {
      "text/plain": [
       "240    545.0\n",
       "132    551.0\n",
       "424    535.0\n",
       "92     550.0\n",
       "170    623.0\n",
       "Name: Tg, dtype: float64"
      ]
     },
     "execution_count": 9,
     "metadata": {},
     "output_type": "execute_result"
    }
   ],
   "source": [
    "y = choose_y(df_s, property_name)\n",
    "print(y.shape)\n",
    "y.head()"
   ]
  },
  {
   "cell_type": "code",
   "execution_count": 10,
   "metadata": {},
   "outputs": [
    {
     "name": "stdout",
     "output_type": "stream",
     "text": [
      "(475, 7) (119, 7) (475,) (119,)\n"
     ]
    }
   ],
   "source": [
    "from sklearn.model_selection import train_test_split\n",
    "X_train, X_test, y_train, y_test = train_test_split(X, y, test_size = 0.2, random_state = 0)\n",
    "print(X_train.shape, X_test.shape, y_train.shape, y_test.shape)"
   ]
  },
  {
   "cell_type": "markdown",
   "metadata": {},
   "source": [
    "### Default"
   ]
  },
  {
   "cell_type": "code",
   "execution_count": 11,
   "metadata": {},
   "outputs": [
    {
     "data": {
      "text/plain": [
       "RandomForestRegressor()"
      ]
     },
     "execution_count": 11,
     "metadata": {},
     "output_type": "execute_result"
    }
   ],
   "source": [
    "rfr = RandomForestRegressor()\n",
    "rfr.fit(X_train, y_train)"
   ]
  },
  {
   "cell_type": "code",
   "execution_count": 12,
   "metadata": {},
   "outputs": [
    {
     "name": "stdout",
     "output_type": "stream",
     "text": [
      "R2 =  0.6619697010783532\n"
     ]
    }
   ],
   "source": [
    "pred_rfr = rfr.predict(X_test)\n",
    "R2_rfr = r2_score(pred_rfr, y_test)\n",
    "print('R2 = ', R2_rfr)"
   ]
  },
  {
   "cell_type": "markdown",
   "metadata": {},
   "source": [
    "### Hyperparameter tuning using GPyOpt"
   ]
  },
  {
   "cell_type": "code",
   "execution_count": 13,
   "metadata": {},
   "outputs": [],
   "source": [
    "# GPyOpt for RF regression\n",
    "\n",
    "bounds_rfr = [\n",
    "    {'name': 'n_estimators', 'type': 'discrete', 'domain': tuple(range(5, 500))},\n",
    "    {'name': 'max_depth', 'type': 'discrete', 'domain': tuple(range(1, 300))},\n",
    "    {'name': 'min_sample_split', 'type': 'discrete', 'domain': tuple(range(2, 20))},\n",
    "    {'name': 'min_samples_leaf', 'type': 'discrete', 'domain': tuple(range(1, 10))}\n",
    "]\n",
    "\n",
    "# Optimization objective function\n",
    "\n",
    "def rmse_rfr(*args):\n",
    "    params = args[0]\n",
    "    \n",
    "    rfr = RandomForestRegressor(n_estimators = int(params[0][0]),\n",
    "                                max_depth = int(params[0][1]),\n",
    "                                min_samples_split = int(params[0][2]),\n",
    "                                min_samples_leaf = int(params[0][3]),\n",
    "                                bootstrap = True,\n",
    "                                random_state = 0,\n",
    "                                criterion = 'mse')\n",
    "                \n",
    "    rfr.fit(X_train, y_train)\n",
    "    \n",
    "    pred_rfr = rfr.predict(X_test)\n",
    "    RMSE = np.sqrt(mean_squared_error(pred_rfr, y_test))\n",
    "    \n",
    "    return RMSE"
   ]
  },
  {
   "cell_type": "code",
   "execution_count": 14,
   "metadata": {},
   "outputs": [
    {
     "name": "stdout",
     "output_type": "stream",
     "text": [
      "Wall time: 2min 10s\n"
     ]
    }
   ],
   "source": [
    "%%time\n",
    "\n",
    "optimizer = BayesianOptimization(f = rmse_rfr, domain = bounds_rfr)\n",
    "optimizer.run_optimization(max_iter = 100)"
   ]
  },
  {
   "cell_type": "code",
   "execution_count": 15,
   "metadata": {},
   "outputs": [
    {
     "data": {
      "text/plain": [
       "array([198., 253.,   2.,   1.])"
      ]
     },
     "execution_count": 15,
     "metadata": {},
     "output_type": "execute_result"
    }
   ],
   "source": [
    "optimizer.x_opt"
   ]
  },
  {
   "cell_type": "code",
   "execution_count": 16,
   "metadata": {},
   "outputs": [
    {
     "name": "stdout",
     "output_type": "stream",
     "text": [
      "R2 =  0.6921\n"
     ]
    }
   ],
   "source": [
    "rfr_best = RandomForestRegressor(n_estimators = int(optimizer.x_opt[0]),\n",
    "                                 max_depth = int(optimizer.x_opt[1]),\n",
    "                                 min_samples_split = int(optimizer.x_opt[2]),\n",
    "                                 min_samples_leaf = int(optimizer.x_opt[3]),\n",
    "                                 bootstrap = True,\n",
    "                                 random_state = 0,\n",
    "                                 criterion = 'mse')\n",
    "\n",
    "rfr_best.fit(X_train, y_train)\n",
    "y_pred_rfr = rfr_best.predict(X_test)\n",
    "\n",
    "print('R2 = ', '{:.4}'.format(r2_score(y_pred_rfr, y_test)))"
   ]
  },
  {
   "cell_type": "code",
   "execution_count": 17,
   "metadata": {},
   "outputs": [
    {
     "data": {
      "image/png": "[encoded data removed]",
      "text/plain": [
       "<Figure size 720x360 with 2 Axes>"
      ]
     },
     "metadata": {
      "needs_background": "light"
     },
     "output_type": "display_data"
    }
   ],
   "source": [
    "optimizer.plot_convergence()"
   ]
  },
  {
   "cell_type": "markdown",
   "metadata": {},
   "source": [
    "### Check model performance by CV"
   ]
  },
  {
   "cell_type": "code",
   "execution_count": 18,
   "metadata": {},
   "outputs": [
    {
     "name": "stdout",
     "output_type": "stream",
     "text": [
      "R2 =   0.9678\n"
     ]
    },
    {
     "data": {
      "image/png": "[encoded data removed]",
      "text/plain": [
       "<Figure size 288x288 with 1 Axes>"
      ]
     },
     "metadata": {
      "needs_background": "light"
     },
     "output_type": "display_data"
    }
   ],
   "source": [
    "# Use all data\n",
    "X_train, y_train = X, y\n",
    "\n",
    "rfr_best = RandomForestRegressor(n_estimators = int(optimizer.x_opt[0]),\n",
    "                                 max_depth = int(optimizer.x_opt[1]),\n",
    "                                 min_samples_split = int(optimizer.x_opt[2]),\n",
    "                                 min_samples_leaf = int(optimizer.x_opt[3]),\n",
    "                                 bootstrap = True,\n",
    "                                 random_state = 0,\n",
    "                                 criterion = 'mse')\n",
    "\n",
    "rfr_best.fit(X_train, y_train)\n",
    "y_pred = rfr_best.predict(X_train)\n",
    "\n",
    "print('R2 = ', ' {:.4}'.format(r2_score(y, y_pred)))\n",
    "\n",
    "plt.figure(figsize = [4, 4])\n",
    "slp_1_begin = 0.99 * y.min()\n",
    "slp_1_end   = 1.01 * y.max()\n",
    "\n",
    "plt.scatter(y, y_pred, c = 'r', alpha = 0.5)\n",
    "plt.plot([slp_1_begin, slp_1_end], [slp_1_begin, slp_1_end], c = 'b')\n",
    "plt.title('Fitting check')\n",
    "plt.xlabel('Observed value')\n",
    "plt.ylabel('Predicted value')\n",
    "plt.show()"
   ]
  },
  {
   "cell_type": "code",
   "execution_count": 19,
   "metadata": {},
   "outputs": [],
   "source": [
    "# Save the best model\n",
    "\n",
    "import pickle\n",
    "with open('./data_common/best_RF_Tg.pickle', mode='wb') as f:\n",
    "    pickle.dump(rfr_best, f)"
   ]
  },
  {
   "cell_type": "code",
   "execution_count": null,
   "metadata": {},
   "outputs": [],
   "source": []
  }
 ],
 "metadata": {
  "kernelspec": {
   "display_name": "Python 3",
   "language": "python",
   "name": "python3"
  },
  "language_info": {
   "codemirror_mode": {
    "name": "ipython",
    "version": 3
   },
   "file_extension": ".py",
   "mimetype": "text/x-python",
   "name": "python",
   "nbconvert_exporter": "python",
   "pygments_lexer": "ipython3",
   "version": "3.7.4"
  }
 },
 "nbformat": 4,
 "nbformat_minor": 2
}
